{
 "cells": [
  {
   "cell_type": "markdown",
   "metadata": {},
   "source": [
    "# Data"
   ]
  },
  {
   "cell_type": "markdown",
   "metadata": {},
   "source": [
    "For the project we required various types of data which was not available in ready to use for. So we need to use web mining, API, and libraries.   \n",
    "\n",
    "We need the data about bussiness in various areas of Vancouver, so we would ne names of areas of vancouver, coordinates of those areas and the data about businesses those areas."
   ]
  },
  {
   "cell_type": "markdown",
   "metadata": {},
   "source": [
    "Names of Area: The names of area are fetched from the wikipedia page of postal codes : https://en.wikipedia.org/wiki/List_of_postal_codes_of_Canada:_V\n",
    "\n",
    "Coordinates of Area: To get the latitude and logitude of the area we used python library 'geopy'.\n",
    "\n",
    "Data on Business: We use Foursquare api to fetch data regarding eatary businesses in a particular area."
   ]
  }
 ],
 "metadata": {
  "kernelspec": {
   "display_name": "Python 3",
   "language": "python",
   "name": "python3"
  },
  "language_info": {
   "codemirror_mode": {
    "name": "ipython",
    "version": 3
   },
   "file_extension": ".py",
   "mimetype": "text/x-python",
   "name": "python",
   "nbconvert_exporter": "python",
   "pygments_lexer": "ipython3",
   "version": "3.7.2"
  }
 },
 "nbformat": 4,
 "nbformat_minor": 4
}
