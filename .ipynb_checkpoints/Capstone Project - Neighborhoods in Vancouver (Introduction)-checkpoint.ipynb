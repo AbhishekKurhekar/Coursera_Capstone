{
 "cells": [
  {
   "cell_type": "markdown",
   "metadata": {},
   "source": [
    "# Introduction"
   ]
  },
  {
   "cell_type": "markdown",
   "metadata": {},
   "source": [
    "Vancouver is a seaport city in western Canada, located in the Lower Mainland region of British Columbia. As the most populous city in the province, the 2016 census recorded 631,486 people in the city, up from 603,502 in 2011 It is multicultural. It provides lot of business oppourtunities and business friendly environment. It has attracted many different players into the market.    \n",
    "\n",
    "Vancouver has hosted many international conferences and events, including the 1954 Commonwealth Games, UN Habitat I, Expo 86, APEC Canada 1997, the World Police and Fire Games in 1989 and 2009; several matches of 2015 FIFA Women's World Cup including the finals at BC Place in Downtown Vancouver, and the 2010 Winter Olympics and Paralympics which were held in Vancouver and Whistler, a resort community 125 km (78 mi) north of the city.    \n",
    "\n",
    "Vancouver's scenic location makes it a major tourist destination. Over 10.3 million people visited Vancouver in 2017. Annually, tourism contributes approximately $4.8 billion to the Metro Vancouver economy and supports over 70,000 jobs. This also means that the market is highly competitive. As it is highly developed city so cost of doing business is also one of the highest. Thus, any new business venture or expansion needs to be analysed carefully. The insights derived from analysis will give good understanding of the business environment which help in strategically targeting the market. This will help in reduction of risk. And the Return on Investment will be reasonable."
   ]
  },
  {
   "cell_type": "markdown",
   "metadata": {},
   "source": [
    "# Business problem"
   ]
  },
  {
   "cell_type": "markdown",
   "metadata": {},
   "source": [
    "The Vancouver has food culture which includes an array of international cuisines influenced by the city's immigrant history.\n",
    "\n",
    "There are various types of restaurant and eating outlets but its tough to determine which place is suitable for which cuisines as it varies by area. So we would like to find out the popular category of bussiness in a particular area."
   ]
  },
  {
   "cell_type": "markdown",
   "metadata": {},
   "source": [
    "# Find a suitable location"
   ]
  },
  {
   "cell_type": "markdown",
   "metadata": {},
   "source": [
    "If you plan to set up bussiness that can demand higher prices for fresh ingredients, delivered daily from farms, focus on neighborhoods and outlets that already attract a sophisticated client. If you plan a cheap buffet restaurant, points to the masses looking for affordable high-traffic locations with large shopping centers and other local points of interest. So it is evident that to survive in such competitive market it is very important to startegically plan. Various factors need to be studied inorder to decide on the Location"
   ]
  },
  {
   "cell_type": "markdown",
   "metadata": {},
   "source": [
    "# Target Audience "
   ]
  },
  {
   "cell_type": "markdown",
   "metadata": {},
   "source": [
    "The clientele includes any person who wants to open his eatery business of any type in Vancouver, so I only focus on Vancouver city for my analysis. The objective is to recommend to the management which neighborhood of Vancouver city will be best choice to start bussiness in area of there choice."
   ]
  }
 ],
 "metadata": {
  "kernelspec": {
   "display_name": "Python 3",
   "language": "python",
   "name": "python3"
  },
  "language_info": {
   "codemirror_mode": {
    "name": "ipython",
    "version": 3
   },
   "file_extension": ".py",
   "mimetype": "text/x-python",
   "name": "python",
   "nbconvert_exporter": "python",
   "pygments_lexer": "ipython3",
   "version": "3.7.2"
  }
 },
 "nbformat": 4,
 "nbformat_minor": 4
}
